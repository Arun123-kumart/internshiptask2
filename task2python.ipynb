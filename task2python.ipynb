{
 "cells": [
  {
   "cell_type": "code",
   "execution_count": 2,
   "metadata": {},
   "outputs": [],
   "source": [
    "#python code for encryption\n",
    "#taking the path of the image to encrypt \n",
    "path=r'\"C:\\Users\\Bhoomika T\\OneDrive\\Pictures\\tcs.png\"'\n",
    "#taking the encrytion key as input\n",
    "key=int(input('enter the key for encryption of the image:'))\n",
    "#print the path of image file\n",
    "#we are using\n",
    "print('the path of the file:',path)\n",
    "print ('key for encryption :',key)\n",
    "#open file for reading purpose\n",
    "fin=open(path,'rb')\n",
    "#storing data in the variable image\n",
    "image=fin.read()\n",
    "fin.close()\n",
    "\n",
    "#converting image into byte array to\n",
    "#perform encryption easily on numeric data \n",
    "image=bytearray(image)\n",
    "#performing the XOR operation on each value of te bytearrray\n",
    "for index,values in enumerate(image):\n",
    "          image[index] = values^key\n",
    "#opening file for writing purpose\n",
    "fin=open(path,'wb')\n",
    "#writing encrypted data into image \n",
    "fin.write(image)\n",
    "fin.close()\n",
    "print('encryption done...')\n"
   ]
  }
 ],
 "metadata": {
  "kernelspec": {
   "display_name": "Python 3",
   "language": "python",
   "name": "python3"
  },
  "language_info": {
   "codemirror_mode": {
    "name": "ipython",
    "version": 3
   },
   "file_extension": ".py",
   "mimetype": "text/x-python",
   "name": "python",
   "nbconvert_exporter": "python",
   "pygments_lexer": "ipython3",
   "version": "3.12.4"
  }
 },
 "nbformat": 4,
 "nbformat_minor": 2
}
